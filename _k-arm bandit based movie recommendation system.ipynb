{
 "cells": [
  {
   "cell_type": "markdown",
   "id": "9df2a0a4",
   "metadata": {},
   "source": [
    "# k-arm bandit based movie recommendation system"
   ]
  },
  {
   "cell_type": "code",
   "execution_count": 2,
   "id": "309985eb",
   "metadata": {},
   "outputs": [],
   "source": [
    "import numpy as np\n",
    "import pandas as pd\n",
    "import random\n",
    "from sklearn.metrics.pairwise import cosine_similarity\n",
    "from sklearn.feature_extraction.text import TfidfVectorizer"
   ]
  },
  {
   "cell_type": "code",
   "execution_count": 8,
   "id": "2010b709",
   "metadata": {},
   "outputs": [],
   "source": [
    "class RecommendationSystem:\n",
    "    def __init__(self, k=10, epsilon=0.1, initial_reward=0.0):\n",
    "        self.k = k \n",
    "        self.epsilon = epsilon\n",
    "        self.q_values = np.full(k, initial_reward)  \n",
    "        self.action_counts = np.zeros(k)  \n",
    "\n",
    "    def select_item(self):\n",
    "        if np.random.rand() < self.epsilon:\n",
    "            return np.random.randint(self.k)\n",
    "        else:\n",
    "            return np.argmax(self.q_values)\n",
    "\n",
    "    def update_estimates(self, action, reward):\n",
    "        self.action_counts[action] += 1\n",
    "        alpha = 1 / self.action_counts[action] \n",
    "        self.q_values[action] += alpha * (reward - self.q_values[action])\n",
    "\n",
    "    def run(self, true_rewards, steps=1000):\n",
    "        rewards = []\n",
    "        for step in range(steps):\n",
    "            action = self.select_item()\n",
    "            reward = np.random.normal(true_rewards[action], 1)\n",
    "            self.update_estimates(action, reward)\n",
    "            rewards.append(reward)\n",
    "        return rewards"
   ]
  },
  {
   "cell_type": "code",
   "execution_count": 9,
   "id": "f6c34f48",
   "metadata": {},
   "outputs": [],
   "source": [
    "k = 15\n",
    "epsilon = 0.1\n",
    "true_rewards = np.random.normal(0, 1, k)  "
   ]
  },
  {
   "cell_type": "code",
   "execution_count": 10,
   "id": "ff438088",
   "metadata": {},
   "outputs": [],
   "source": [
    "recommender = RecommendationSystem(k=k, epsilon=epsilon)\n",
    "rewards = recommender.run(true_rewards, steps=1000)"
   ]
  },
  {
   "cell_type": "code",
   "execution_count": 11,
   "id": "afb0ffa3",
   "metadata": {},
   "outputs": [
    {
     "name": "stdout",
     "output_type": "stream",
     "text": [
      "Estimated rewards for items: [ 0.35282296  1.57206815  0.63284933  3.19346708 -0.39117545  0.96970638\n",
      "  1.11953268  1.19600778  0.26623694  0.19550834 -0.87818413  0.07256211\n",
      "  1.06697449  0.6053049   0.8131404 ]\n",
      "True rewards for items: [-0.12298806  1.46944141  0.78836644  3.16393251  0.30763008  0.40905649\n",
      "  1.12646632  0.99933533  0.37411844  0.07443958 -0.65374475  0.75409298\n",
      "  1.76732288 -0.25753264  0.83635296]\n"
     ]
    }
   ],
   "source": [
    "print(\"Estimated rewards for items:\", recommender.q_values)\n",
    "print(\"True rewards for items:\", true_rewards)"
   ]
  },
  {
   "cell_type": "code",
   "execution_count": 3,
   "id": "48474f90",
   "metadata": {},
   "outputs": [],
   "source": [
    "file_path = r\"C:\\Users\\ramya\\Downloads\\archive (22)\\imdb_top_1000.csv\"\n",
    "movies_df = pd.read_csv(file_path)"
   ]
  },
  {
   "cell_type": "code",
   "execution_count": 4,
   "id": "c0850162",
   "metadata": {},
   "outputs": [],
   "source": [
    "def get_reward(movie_row):\n",
    "    rating = movie_row['IMDB_Rating']\n",
    "    return rating / 10  "
   ]
  },
  {
   "cell_type": "code",
   "execution_count": 5,
   "id": "78b7f3ae",
   "metadata": {},
   "outputs": [],
   "source": [
    "tfidf = TfidfVectorizer(stop_words='english')\n",
    "tfidf_matrix = tfidf.fit_transform(movies_df['Series_Title']) \n",
    "similarity_matrix = cosine_similarity(tfidf_matrix)"
   ]
  },
  {
   "cell_type": "code",
   "execution_count": 6,
   "id": "5b1ccc54",
   "metadata": {},
   "outputs": [],
   "source": [
    "epsilon = 0.1"
   ]
  },
  {
   "cell_type": "code",
   "execution_count": 7,
   "id": "e64bcaf3",
   "metadata": {},
   "outputs": [],
   "source": [
    "def get_similar_movies(input_title, top_n=10):\n",
    "    try:\n",
    "        idx = movies_df[movies_df['Series_Title'].str.contains(input_title, case=False, regex=False)].index[0]\n",
    "    except IndexError:\n",
    "        print(\"Movie title not found.\")\n",
    "        return None\n",
    "\n",
    "    similarity_scores = list(enumerate(similarity_matrix[idx]))\n",
    "    similarity_scores = sorted(similarity_scores, key=lambda x: x[1], reverse=True)\n",
    "    similar_indices = [i[0] for i in similarity_scores[1:top_n+1]]\n",
    "\n",
    "    return similar_indices"
   ]
  },
  {
   "cell_type": "code",
   "execution_count": 8,
   "id": "e9dce864",
   "metadata": {},
   "outputs": [],
   "source": [
    "def recommend_movie(input_title):\n",
    "    similar_indices = get_similar_movies(input_title)\n",
    "    if not similar_indices:\n",
    "        return None, None\n",
    "\n",
    "    available_arms = len(similar_indices)\n",
    "    if available_arms == 0:\n",
    "        return None, None\n",
    "\n",
    "    global arm_rewards, arm_counts\n",
    "    arm_rewards = np.zeros(available_arms)\n",
    "    arm_counts = np.zeros(available_arms)\n",
    "\n",
    "    if random.random() < epsilon:\n",
    "        arm = random.choice(range(available_arms))\n",
    "    else:\n",
    "        arm = np.argmax(arm_rewards / (arm_counts + 1e-5))\n",
    "\n",
    "    recommended_movie = movies_df.iloc[similar_indices[arm]]\n",
    "    return arm, recommended_movie"
   ]
  },
  {
   "cell_type": "code",
   "execution_count": 9,
   "id": "556e8911",
   "metadata": {},
   "outputs": [],
   "source": [
    "def update_bandit(arm, reward):\n",
    "    arm_counts[arm] += 1\n",
    "    arm_rewards[arm] += reward"
   ]
  },
  {
   "cell_type": "code",
   "execution_count": 10,
   "id": "05b79af4",
   "metadata": {},
   "outputs": [],
   "source": [
    "input_title = \"Inception\""
   ]
  },
  {
   "cell_type": "code",
   "execution_count": 11,
   "id": "f9dd8e80",
   "metadata": {},
   "outputs": [
    {
     "name": "stdout",
     "output_type": "stream",
     "text": [
      "\n",
      "Round 1\n",
      "Recommended Movie: The Shawshank Redemption (Rating: 9.3)\n",
      "\n",
      "Round 2\n",
      "Recommended Movie: The Shawshank Redemption (Rating: 9.3)\n",
      "\n",
      "Round 3\n",
      "Recommended Movie: The Shawshank Redemption (Rating: 9.3)\n",
      "\n",
      "Round 4\n",
      "Recommended Movie: The Shawshank Redemption (Rating: 9.3)\n",
      "\n",
      "Round 5\n",
      "Recommended Movie: The Shawshank Redemption (Rating: 9.3)\n",
      "\n",
      "Round 6\n",
      "Recommended Movie: The Shawshank Redemption (Rating: 9.3)\n",
      "\n",
      "Round 7\n",
      "Recommended Movie: The Shawshank Redemption (Rating: 9.3)\n",
      "\n",
      "Round 8\n",
      "Recommended Movie: The Shawshank Redemption (Rating: 9.3)\n",
      "\n",
      "Round 9\n",
      "Recommended Movie: The Shawshank Redemption (Rating: 9.3)\n",
      "\n",
      "Round 10\n",
      "Recommended Movie: The Shawshank Redemption (Rating: 9.3)\n",
      "\n",
      "Round 11\n",
      "Recommended Movie: The Shawshank Redemption (Rating: 9.3)\n",
      "\n",
      "Round 12\n",
      "Recommended Movie: The Shawshank Redemption (Rating: 9.3)\n",
      "\n",
      "Round 13\n",
      "Recommended Movie: The Shawshank Redemption (Rating: 9.3)\n",
      "\n",
      "Round 14\n",
      "Recommended Movie: The Shawshank Redemption (Rating: 9.3)\n",
      "\n",
      "Round 15\n",
      "Recommended Movie: The Shawshank Redemption (Rating: 9.3)\n",
      "\n",
      "Round 16\n",
      "Recommended Movie: The Shawshank Redemption (Rating: 9.3)\n",
      "\n",
      "Round 17\n",
      "Recommended Movie: The Shawshank Redemption (Rating: 9.3)\n",
      "\n",
      "Round 18\n",
      "Recommended Movie: The Shawshank Redemption (Rating: 9.3)\n",
      "\n",
      "Round 19\n",
      "Recommended Movie: 12 Angry Men (Rating: 9.0)\n",
      "\n",
      "Round 20\n",
      "Recommended Movie: The Shawshank Redemption (Rating: 9.3)\n",
      "\n",
      "Round 21\n",
      "Recommended Movie: The Shawshank Redemption (Rating: 9.3)\n",
      "\n",
      "Round 22\n",
      "Recommended Movie: The Shawshank Redemption (Rating: 9.3)\n",
      "\n",
      "Round 23\n",
      "Recommended Movie: The Shawshank Redemption (Rating: 9.3)\n",
      "\n",
      "Round 24\n",
      "Recommended Movie: The Shawshank Redemption (Rating: 9.3)\n",
      "\n",
      "Round 25\n",
      "Recommended Movie: The Godfather: Part II (Rating: 9.0)\n",
      "\n",
      "Round 26\n",
      "Recommended Movie: The Godfather: Part II (Rating: 9.0)\n",
      "\n",
      "Round 27\n",
      "Recommended Movie: The Shawshank Redemption (Rating: 9.3)\n",
      "\n",
      "Round 28\n",
      "Recommended Movie: The Shawshank Redemption (Rating: 9.3)\n",
      "\n",
      "Round 29\n",
      "Recommended Movie: The Shawshank Redemption (Rating: 9.3)\n",
      "\n",
      "Round 30\n",
      "Recommended Movie: The Shawshank Redemption (Rating: 9.3)\n",
      "\n",
      "Round 31\n",
      "Recommended Movie: The Shawshank Redemption (Rating: 9.3)\n",
      "\n",
      "Round 32\n",
      "Recommended Movie: The Shawshank Redemption (Rating: 9.3)\n",
      "\n",
      "Round 33\n",
      "Recommended Movie: The Shawshank Redemption (Rating: 9.3)\n",
      "\n",
      "Round 34\n",
      "Recommended Movie: The Shawshank Redemption (Rating: 9.3)\n",
      "\n",
      "Round 35\n",
      "Recommended Movie: The Shawshank Redemption (Rating: 9.3)\n",
      "\n",
      "Round 36\n",
      "Recommended Movie: The Shawshank Redemption (Rating: 9.3)\n",
      "\n",
      "Round 37\n",
      "Recommended Movie: The Shawshank Redemption (Rating: 9.3)\n",
      "\n",
      "Round 38\n",
      "Recommended Movie: The Shawshank Redemption (Rating: 9.3)\n",
      "\n",
      "Round 39\n",
      "Recommended Movie: The Shawshank Redemption (Rating: 9.3)\n",
      "\n",
      "Round 40\n",
      "Recommended Movie: The Shawshank Redemption (Rating: 9.3)\n",
      "\n",
      "Round 41\n",
      "Recommended Movie: The Shawshank Redemption (Rating: 9.3)\n",
      "\n",
      "Round 42\n",
      "Recommended Movie: The Shawshank Redemption (Rating: 9.3)\n",
      "\n",
      "Round 43\n",
      "Recommended Movie: The Shawshank Redemption (Rating: 9.3)\n",
      "\n",
      "Round 44\n",
      "Recommended Movie: The Shawshank Redemption (Rating: 9.3)\n",
      "\n",
      "Round 45\n",
      "Recommended Movie: The Shawshank Redemption (Rating: 9.3)\n",
      "\n",
      "Round 46\n",
      "Recommended Movie: The Shawshank Redemption (Rating: 9.3)\n",
      "\n",
      "Round 47\n",
      "Recommended Movie: The Godfather: Part II (Rating: 9.0)\n",
      "\n",
      "Round 48\n",
      "Recommended Movie: The Shawshank Redemption (Rating: 9.3)\n",
      "\n",
      "Round 49\n",
      "Recommended Movie: The Shawshank Redemption (Rating: 9.3)\n",
      "\n",
      "Round 50\n",
      "Recommended Movie: The Shawshank Redemption (Rating: 9.3)\n"
     ]
    }
   ],
   "source": [
    "for i in range(50):  \n",
    "    print(f\"\\nRound {i + 1}\")\n",
    "    arm, recommended_movie = recommend_movie(input_title)\n",
    "    if recommended_movie is not None:\n",
    "        print(f\"Recommended Movie: {recommended_movie['Series_Title']} (Rating: {recommended_movie['IMDB_Rating']})\")\n",
    "\n",
    "        reward = get_reward(recommended_movie)\n",
    "        update_bandit(arm, reward)\n",
    "    else:\n",
    "        print(\"No recommendation available.\")"
   ]
  },
  {
   "cell_type": "code",
   "execution_count": null,
   "id": "9e92fd1b",
   "metadata": {},
   "outputs": [],
   "source": [
    "\n"
   ]
  }
 ],
 "metadata": {
  "kernelspec": {
   "display_name": "Python 3 (ipykernel)",
   "language": "python",
   "name": "python3"
  },
  "language_info": {
   "codemirror_mode": {
    "name": "ipython",
    "version": 3
   },
   "file_extension": ".py",
   "mimetype": "text/x-python",
   "name": "python",
   "nbconvert_exporter": "python",
   "pygments_lexer": "ipython3",
   "version": "3.9.12"
  }
 },
 "nbformat": 4,
 "nbformat_minor": 5
}
